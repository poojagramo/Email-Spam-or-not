{
  "nbformat": 4,
  "nbformat_minor": 0,
  "metadata": {
    "colab": {
      "name": "Untitled2.ipynb",
      "provenance": [],
      "include_colab_link": true
    },
    "kernelspec": {
      "name": "python3",
      "display_name": "Python 3"
    }
  },
  "cells": [
    {
      "cell_type": "markdown",
      "metadata": {
        "id": "view-in-github",
        "colab_type": "text"
      },
      "source": [
        "<a href=\"https://colab.research.google.com/github/poojagramo/Email-Spam-or-not/blob/master/Spam_Detection.ipynb\" target=\"_parent\"><img src=\"https://colab.research.google.com/assets/colab-badge.svg\" alt=\"Open In Colab\"/></a>"
      ]
    },
    {
      "cell_type": "code",
      "metadata": {
        "id": "1CAreFdW4QqD",
        "colab_type": "code",
        "colab": {}
      },
      "source": [
        "import pandas as pd\n",
        "from sklearn.feature_extraction.text import CountVectorizer\n",
        "from sklearn.naive_bayes import MultinomialNB, GaussianNB\n",
        "from sklearn import svm\n",
        "from pandas import value_counts\n",
        "# from google.colab import files\n",
        "# uploaded = files.upload()"
      ],
      "execution_count": 11,
      "outputs": []
    },
    {
      "cell_type": "code",
      "metadata": {
        "id": "Xyx2kvqj4hFY",
        "colab_type": "code",
        "colab": {
          "base_uri": "https://localhost:8080/",
          "height": 102
        },
        "outputId": "b3db8d27-00e2-4743-b849-58249aee01ec"
      },
      "source": [
        "data = pd.read_csv(\"/content/spam.csv\")\n",
        "print(data.describe())\n"
      ],
      "execution_count": 12,
      "outputs": [
        {
          "output_type": "stream",
          "text": [
            "       class                    text\n",
            "count   5572                    5572\n",
            "unique     2                    5169\n",
            "top      ham  Sorry, I'll call later\n",
            "freq    4825                      30\n"
          ],
          "name": "stdout"
        }
      ]
    },
    {
      "cell_type": "code",
      "metadata": {
        "id": "XrlazlyA44DF",
        "colab_type": "code",
        "colab": {
          "base_uri": "https://localhost:8080/",
          "height": 323
        },
        "outputId": "bd1f4c45-3592-4e0a-bfea-fc55dca64151"
      },
      "source": [
        "x = data[\"text\"]\n",
        "y = data[\"class\"]\n",
        "\n",
        "#train data\n",
        "x_train , y_train = x[0:4457] , y[0:4457]\n",
        "\n",
        "#test data\n",
        "x_test , y_test = x[4457:] , y[4457:]\n",
        "\n",
        "#step3 : extract features \n",
        "cv = CountVectorizer()\n",
        "features = cv.fit_transform(x_train)\n",
        "\n",
        "#Step4: Building model\n",
        "\n",
        "model = svm.SVC()\n",
        "\n",
        "model.fit(features,y_train)\n",
        "\n",
        "#Step5: Test Accuracy\n",
        "\n",
        "features_test = cv.transform(x_test)\n",
        "print(\"Accuracy:\",model.score(features_test,y_test))\n",
        "print(\".........................\")\n",
        "print(value_counts(data['class']))\n",
        "\n",
        "#length of text\n",
        "print(\"Length of each text in email:\")\n",
        "data['length'] = data['text'].map(lambda text: len(text))\n",
        "print(data['length'])\n",
        "\n",
        "\n",
        "\n"
      ],
      "execution_count": 13,
      "outputs": [
        {
          "output_type": "stream",
          "text": [
            "Accuracy: 0.9856502242152466\n",
            ".........................\n",
            "ham     4825\n",
            "spam     747\n",
            "Name: class, dtype: int64\n",
            "Length of each text in email:\n",
            "0       111\n",
            "1        29\n",
            "2       155\n",
            "3        49\n",
            "4        61\n",
            "       ... \n",
            "5567    163\n",
            "5568     38\n",
            "5569     57\n",
            "5570    125\n",
            "5571     26\n",
            "Name: length, Length: 5572, dtype: int64\n"
          ],
          "name": "stdout"
        }
      ]
    }
  ]
}